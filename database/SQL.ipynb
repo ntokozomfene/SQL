{
 "cells": [
  {
   "cell_type": "markdown",
   "metadata": {},
   "source": [
    "# Part 1: Creating a database"
   ]
  },
  {
   "cell_type": "markdown",
   "metadata": {},
   "source": [
    "#### Create a database called “Umuzi”\n",
    "\n",
    "create database Umuzi"
   ]
  },
  {
   "cell_type": "markdown",
   "metadata": {},
   "source": [
    "#### 2.Create the following tables in the Umuzi database:\n",
    "* Customers\n",
    "* Employees\n",
    "* Orders\n",
    "* Payments\n",
    "* Products\n",
    "\n",
    "#### 3.Create a primary key for each table with auto-increment (make sure you correctly specify the data types, e.g. the ID field should be int).\n",
    "\n",
    "#### 4.Create foreign keys so that every ID in the order table references an existing ID in the tables referenced (e.g., ProductID, EmployeeID, etc).\n",
    "\n",
    "\n",
    "#### Customers\n",
    "create table Customers(\n",
    "customerid      SERIAL PRIMARY KEY,\n",
    "first_Name      VARCHAR (50),\n",
    "lastname        VARCHAR(50),\n",
    "gender          VARCHAR,\n",
    "addresses       VARCHAR(200),\n",
    "phone           bigint,\n",
    "email           VARCHAR(100),\n",
    "city            VARCHAR(20),\n",
    "country         VARCHAR(50)\n",
    ");\n",
    "\n",
    "#### Employees\n",
    "create table Employees (\n",
    "Employeeid      Serial Primary key,\n",
    "first_Name      VARCHAR (50),\n",
    "lastname        VARCHAR(50),\n",
    "email           VARCHAR(100),\n",
    "JobTitle        VARCHAR(20)\n",
    ");\n",
    "#### Orders\n",
    "create table Orders (\n",
    "OrderId                Serial Primary key,\n",
    "ProductID              integer,\n",
    "PaymentID              integer,\n",
    "FUlfilledByEmployeeID  integer,\n",
    "DateRequired           timestamp,\n",
    "DateShipped            timestamp,\n",
    "Status                 varchar(20)\n",
    ");\n",
    "\n",
    "#### Payments\n",
    "create table Payments(\n",
    "customerid      Serial Primary key,\n",
    "PaymentID       integer,\n",
    "PaymentDate     timestamp,\n",
    "Amount          decimal\n",
    ");\n",
    "\n",
    "#### Products\n",
    "create table Products(\n",
    "ProductId       Serial Primary key,\n",
    "ProductName     VARCHAR (100),\n",
    "Description     VARCHAR(300),\n",
    "BuyPrice        decimal\n",
    ");"
   ]
  },
  {
   "cell_type": "markdown",
   "metadata": {},
   "source": [
    "#### 5.INSERT the records in the tables below into the table you created in step 2.\n",
    "\n",
    "#### Customers\n",
    "\n",
    "INSERT INTO customers (CUSTOMERID, FIRST_NAME, LASTNAME, GENDER, ADDRESSES, PHONE,EMAIL, \n",
    "CITY,COUNTRY)\n",
    "VALUES (1, 'John','Hibert', 'Male', '284 chaucer st', 084789657, 'john@gmail.com', \n",
    "'Johannesburg', 'South Africa');\n",
    "\n",
    "INSERT INTO customers (CUSTOMERID, FIRST_NAME, LASTNAME, GENDER, ADDRESSES, PHONE,EMAIL, \n",
    "CITY,COUNTRY)\n",
    "VALUES (2, 'Thando', 'Sithole', 'Female', '240 sect 1', 0794445584, 'thando@gmail.com',\n",
    "'Cape Town', 'South Africa');\n",
    "\n",
    "INSERT INTO customers (CUSTOMERID, FIRST_NAME, LASTNAME, GENDER, ADDRESSES, PHONE,EMAIL, \n",
    "CITY,COUNTRY)\n",
    "VALUES (3, 'Leon', 'Glen', 'Male', '81 Everton Rd,Gillits', 0820832830,\n",
    "'leon@gmail.com', 'Durban', 'South Africa');\n",
    "\n",
    "INSERT INTO customers (CUSTOMERID, FIRST_NAME, LASTNAME, GENDER, ADDRESSES, PHONE,EMAIL, \n",
    "CITY,COUNTRY)\n",
    "VALUES (4, 'Charl', 'muller', 'Male', '290A Dorset Ecke', 44856872553,\n",
    "'charl.muller@yahoo.com', 'Berlin', 'Germany');\n",
    "\n",
    "INSERT INTO customers (CUSTOMERID, FIRST_NAME, LASTNAME, GENDER, ADDRESSES, PHONE,EMAIL, \n",
    "CITY,COUNTRY)\n",
    "VALUES (5, 'Julia', 'Stein', 'Female', '2 Wernerring', 448672445058,\n",
    "'Js234@yahoo.com', 'Frankfurt', 'Germany');\n",
    "\n",
    "#### Employees\n",
    "\n",
    "INSERT INTO Employees (Employeeid, FIRST_NAME, LASTNAME, EMAIL, JobTitle)\n",
    "VALUES (1, 'Kani', 'Matthew', 'mat@gmail.com', 'Manager');\n",
    "\n",
    "INSERT INTO Employees (Employeeid, FIRST_NAME, LASTNAME, EMAIL, JobTitle)\n",
    "VALUES (2, 'lesly', 'Cronje', 'LesC@gmail.com', 'Clerk');\n",
    "\n",
    "INSERT INTO Employees (Employeeid, FIRST_NAME, LASTNAME, EMAIL, JobTitle)\n",
    "VALUES (3, 'Gideon', 'Maduku', 'm@gmail.com', 'Accountant');\n",
    "\n",
    "#### Orders\n",
    "\n",
    "INSERT INTO orders (Orderid, productid, paymentid, FulfilledByEmployeeid, Daterequired, DateShipped, Status)\n",
    "VALUES (1, 1, 1, 2, '05-09-2018', Null , 'Not shipped');\n",
    "\n",
    "INSERT INTO orders (Orderid, productid, paymentid, FulfilledByEmployeeid, Daterequired, DateShipped, Status)\n",
    "VALUES (2, 1, 2, 2, '04-09-2018', '03-09-2018', 'Shipped');\n",
    "\n",
    "INSERT INTO orders (Orderid, productid, paymentid, FulfilledByEmployeeid, Daterequired, DateShipped, Status)\n",
    "VALUES (3, 3, 3, 3, '06-09-2018', Null , 'Not shipped');\n",
    "\n",
    "#### Payments\n",
    "\n",
    "INSERT INTO payments (customerid, paymentid, paymentdate, amount)\n",
    "VALUES (1, 1, '01-09-2018', 150.75);\n",
    "\n",
    "INSERT INTO payments (customerid, paymentid, paymentdate, amount)\n",
    "VALUES (5, 2, '03-09-2018', 150.75);\n",
    "\n",
    "INSERT INTO payments (customerid, paymentid, paymentdate, amount)\n",
    "VALUES (4, 3, '03-09-2018', 700.60);\n",
    "\n",
    "#### Products\n",
    "\n",
    "INSERT INTO products (productid, productname, Description, buyprice)\n",
    "VALUES (1, 'Harley Davidson Chopper', 'This replica features working kickstand, front suspension, gear-shift lever', 150.75);\n",
    "\n",
    "INSERT INTO products (productid, productname, Description, buyprice)\n",
    "VALUES (2, 'classic Car', 'Turnable front wheels, steering function', 550.75);\n",
    "\n",
    "INSERT INTO products (productid, productname, Description, buyprice)\n",
    "VALUES (3, 'Sports car', 'Turnable front wheels, steering function', 700.60);"
   ]
  },
  {
   "cell_type": "markdown",
   "metadata": {},
   "source": [
    "# Part 2: Querying a database"
   ]
  },
  {
   "cell_type": "markdown",
   "metadata": {},
   "source": [
    "#### 1.SELECT ALL records from table Customers.\n",
    "select * from customers"
   ]
  },
  {
   "cell_type": "markdown",
   "metadata": {},
   "source": [
    "#### 2.SELECT records only from the name column in the Customers table.\n",
    "select first_name from customers\n"
   ]
  },
  {
   "cell_type": "markdown",
   "metadata": {},
   "source": [
    "#### 3.Show the name of the Customer whose CustomerID is 1.\n",
    "select * FROM customers where customerid=1\n"
   ]
  },
  {
   "cell_type": "markdown",
   "metadata": {},
   "source": [
    "#### 4.UPDATE the record for CustomerID = 1 on the Customer table so that the name is “Lerato Mabitso”.\n",
    "UPDATE Customers SET first_name = 'Lerato', lastname= 'Mabitso' WHERE CustomerID = 1\n"
   ]
  },
  {
   "cell_type": "markdown",
   "metadata": {},
   "source": [
    "#### 5.DELETE the record from the Customers table for customer 2 (CustomerID = 2).\n",
    "DELETE FROM Customers WHERE Customerid=1\n"
   ]
  },
  {
   "cell_type": "markdown",
   "metadata": {},
   "source": [
    "#### 6.Select all unique statuses from the Orders table and get a count of the number of orders for each unique status.\n",
    "SELECT count(Distinct status) from orders\n"
   ]
  },
  {
   "cell_type": "markdown",
   "metadata": {},
   "source": [
    "#### 7.Return the MAXIMUM payment made on the PAYMENTS table.\n",
    "SELECT MAX(amount) as LargestPrice FROM Payments\n"
   ]
  },
  {
   "cell_type": "markdown",
   "metadata": {},
   "source": [
    "#### 8.Select all customers from the “Customers” table, sorted by the “Country” column.\n",
    "SELECT * FROM Customers ORDER BY Country\n"
   ]
  },
  {
   "cell_type": "markdown",
   "metadata": {},
   "source": [
    "#### 9.Select all products with a price BETWEEN R100 and R600.\n",
    "select * from products where buyprice between 100 AND 600\n"
   ]
  },
  {
   "cell_type": "markdown",
   "metadata": {},
   "source": [
    "#### 10.Select all fields from “Customers” where country is “Germany” AND city is “Berlin”.\n",
    "SELECT * FROM customers WHERE country='Germany' AND city='Berlin'\n"
   ]
  },
  {
   "cell_type": "markdown",
   "metadata": {},
   "source": [
    "#### 11.Select all fields from “Customers” where city is “Cape Town” OR “Durban”.\n",
    "SELECT * FROM customers WHERE (city = 'Cape town') or (city='Durban')\n"
   ]
  },
  {
   "cell_type": "markdown",
   "metadata": {},
   "source": [
    "#### 12.Select all records from Products where the Price is GREATER than R500.\n",
    "SELECT * FROM Products WHERE buyprice > 500\n"
   ]
  },
  {
   "cell_type": "markdown",
   "metadata": {},
   "source": [
    "#### 13.Return the sum of the Amounts on the Payments table.\n",
    "select sum(amount) FROM payments\n"
   ]
  },
  {
   "cell_type": "markdown",
   "metadata": {},
   "source": [
    "#### 14.Count the number of shipped orders in the Orders table.\n",
    "select count(status='shipped') FROM Orders\n"
   ]
  },
  {
   "cell_type": "markdown",
   "metadata": {},
   "source": [
    "#### 15.Return the average price of all Products, in Rands and in Dollars (assume the exchange rate is R12 to the Dollar).\n",
    "select avg(buyprice)*12 from Products \n"
   ]
  },
  {
   "cell_type": "markdown",
   "metadata": {},
   "source": [
    "#### 16.Using INNER JOIN create a query that selects all Payments with Customer information.\n",
    "select * From customers inner join payments on payments.customerid = customers.customerid\n"
   ]
  },
  {
   "cell_type": "markdown",
   "metadata": {},
   "source": [
    "#### 17.Select all products that have turnable front wheels.\n",
    "select * FROM products WHERE description='Turnable front wheels, steering function'"
   ]
  }
 ],
 "metadata": {
  "kernelspec": {
   "display_name": "Python 3",
   "language": "python",
   "name": "python3"
  },
  "language_info": {
   "codemirror_mode": {
    "name": "ipython",
    "version": 3
   },
   "file_extension": ".py",
   "mimetype": "text/x-python",
   "name": "python",
   "nbconvert_exporter": "python",
   "pygments_lexer": "ipython3",
   "version": "3.7.4"
  }
 },
 "nbformat": 4,
 "nbformat_minor": 2
}
